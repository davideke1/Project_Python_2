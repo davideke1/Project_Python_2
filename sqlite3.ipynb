{
  "nbformat": 4,
  "nbformat_minor": 0,
  "metadata": {
    "colab": {
      "name": "sqlite3.ipynb",
      "provenance": [],
      "authorship_tag": "ABX9TyMS1OOIcayy4d3yU1EheUbw",
      "include_colab_link": true
    },
    "kernelspec": {
      "name": "python3",
      "display_name": "Python 3"
    },
    "language_info": {
      "name": "python"
    }
  },
  "cells": [
    {
      "cell_type": "markdown",
      "metadata": {
        "id": "view-in-github",
        "colab_type": "text"
      },
      "source": [
        "<a href=\"https://colab.research.google.com/github/davideke1/Project_Python_2/blob/master/sqlite3.ipynb\" target=\"_parent\"><img src=\"https://colab.research.google.com/assets/colab-badge.svg\" alt=\"Open In Colab\"/></a>"
      ]
    },
    {
      "cell_type": "code",
      "execution_count": null,
      "metadata": {
        "id": "H13NGCidLyiP"
      },
      "outputs": [],
      "source": [
        "import sqlite3 as sql"
      ]
    },
    {
      "cell_type": "code",
      "source": [
        "c = sql.connect(\"student.db\")\n",
        "cur = c.cursor()"
      ],
      "metadata": {
        "id": "w1RkIL3xL711"
      },
      "execution_count": null,
      "outputs": []
    },
    {
      "cell_type": "code",
      "source": [
        "cur.execute(\"\"\"\n",
        "              create table student (\n",
        "                roll_no integer primary key AUTOINCREMENT,\n",
        "                 name text not null,\n",
        "                  branch text not null,\n",
        "                  mobile_no int not null,\n",
        "                  sets integer not null,\n",
        "                  gender text not null,\n",
        "                  cgpa real not null);\"\"\")"
      ],
      "metadata": {
        "colab": {
          "base_uri": "https://localhost:8080/"
        },
        "id": "czL8yP04MCSS",
        "outputId": "8fb93a78-4d35-4205-de58-d8f746a2f027"
      },
      "execution_count": null,
      "outputs": [
        {
          "output_type": "execute_result",
          "data": {
            "text/plain": [
              "<sqlite3.Cursor at 0x7f204c6ac7a0>"
            ]
          },
          "metadata": {},
          "execution_count": 4
        }
      ]
    },
    {
      "cell_type": "code",
      "source": [
        "c.execute(\"insert into student values(7,'e','fff',8,'f',90223322,4.5)\")"
      ],
      "metadata": {
        "colab": {
          "base_uri": "https://localhost:8080/"
        },
        "id": "DSQ_v-3lOPr6",
        "outputId": "a93f0e9d-f4bc-4a4c-8f13-24f3fbc9e2ff"
      },
      "execution_count": null,
      "outputs": [
        {
          "output_type": "execute_result",
          "data": {
            "text/plain": [
              "<sqlite3.Cursor at 0x7f2048b497a0>"
            ]
          },
          "metadata": {},
          "execution_count": 22
        }
      ]
    },
    {
      "cell_type": "code",
      "source": [
        "x = c.execute(\"select * from student\")\n",
        "for i in x:\n",
        "  print(i)"
      ],
      "metadata": {
        "colab": {
          "base_uri": "https://localhost:8080/"
        },
        "id": "OUFa-b2LOPtc",
        "outputId": "2e9fdd9e-030d-4a5f-ce4a-92efdf7f5629"
      },
      "execution_count": null,
      "outputs": [
        {
          "output_type": "stream",
          "name": "stdout",
          "text": [
            "(1, 'kiran', 'e', 90223322, 8, 'f', 4.5)\n",
            "(2, 'kiran', 'e', 90223322, 8, 'f', 4.5)\n",
            "(3, 'fff', 'e', 90223322, 8, 'f', 4.5)\n",
            "(4, 'fff', 'e', 90223322, 8, 'f', 4.5)\n",
            "(7, 'e', 'fff', 8, 'f', '90223322', 4.5)\n"
          ]
        }
      ]
    },
    {
      "cell_type": "code",
      "source": [
        "# reading multiples columns\n",
        "multiple_lines = [\n",
        "                  (\"david\",'ece',+9187639288787,8,'f', 9.8),\n",
        "                  (\"vivin\",'ece',+9187639288787,8,'f', 9.8),\n",
        "                  (\"viada\",'ece',+9187639288322,8,'f', 9.7),\n",
        "                  (\"vibian\",'ece',+9187639288765,8,'f',9.7),\n",
        "                  (\"samosa\",'ece',+9187639288194,8,'f',8.6),\n",
        "                  (\"goliath\",'ece',+9187639288123,8,'f',6.7),\n",
        "                  (\"daniel\",'ece',+9187639288165,8,'f',8.5),\n",
        "                  (\"samuel\",'ece',+9187639288723,8,'f',6.3),\n",
        "                  (\"peter\",'ece',+9187639288678,8,'f',6.5),\n",
        "                  (\"gave\",'ece',+9187639288787,8,'f', 5.5),\n",
        "                  (\"messi\",'ece',+9187639288787,8,'f', 8.0),\n",
        "                  (\"benema\",'ece',+9187639288787,8,'f', 3.8),\n",
        "                  (\"salah\",'ece',+9187639288787,8,'f', 5.8),\n",
        "                  (\"mane\",'ece',+9187639288787,8,'f', 7.8),\n",
        "                  (\"james\",'ece',+9187639288787,8,'f', 6.8),\n",
        "                  (\"ardone\",'ece',+9187639288787,8,'f', 9.8),\n",
        "                  (\"richard\",'ece',+9187639288787,8,'f', 7.8),\n",
        "                  (\"henry\",'ece',+9187639288787,8,'f', 8.8),\n",
        "                  (\"royal\",'ece',+9187639288787,8,'f', 6.8),\n",
        "]"
      ],
      "metadata": {
        "id": "ccwaK8EJQ56j"
      },
      "execution_count": null,
      "outputs": []
    },
    {
      "cell_type": "code",
      "source": [
        "c.executemany(\"insert into student(name,branch, mobile_no,sets,gender,cgpa) values(?,?,?,?,?,?)\", multiple_lines)"
      ],
      "metadata": {
        "colab": {
          "base_uri": "https://localhost:8080/"
        },
        "id": "1cE4YSp6SRgf",
        "outputId": "d027492a-5430-443f-ec1f-c49e82ac2c51"
      },
      "execution_count": null,
      "outputs": [
        {
          "output_type": "execute_result",
          "data": {
            "text/plain": [
              "<sqlite3.Cursor at 0x7f9985688340>"
            ]
          },
          "metadata": {},
          "execution_count": 12
        }
      ]
    },
    {
      "cell_type": "code",
      "source": [
        "x = c.execute(\"select * from student;\")\n",
        "for i in x:\n",
        "  print(i)"
      ],
      "metadata": {
        "id": "dJPZTYrwSRhz",
        "colab": {
          "base_uri": "https://localhost:8080/"
        },
        "outputId": "16e64c0c-2832-4149-f1ff-379f96334237"
      },
      "execution_count": null,
      "outputs": [
        {
          "output_type": "stream",
          "name": "stdout",
          "text": [
            "(1, 'david', 'ece', 9187639288787, 8, 'f', 9.8)\n",
            "(2, 'vivin', 'ece', 9187639288787, 8, 'f', 9.8)\n",
            "(3, 'viada', 'ece', 9187639288322, 8, 'f', 9.7)\n",
            "(4, 'vibian', 'ece', 9187639288765, 8, 'f', 9.7)\n",
            "(5, 'samosa', 'ece', 9187639288194, 8, 'f', 8.6)\n",
            "(6, 'goliath', 'ece', 9187639288123, 8, 'f', 6.7)\n",
            "(7, 'daniel', 'ece', 9187639288165, 8, 'f', 8.5)\n",
            "(8, 'samuel', 'ece', 9187639288723, 8, 'f', 6.3)\n",
            "(9, 'peter', 'ece', 9187639288678, 8, 'f', 6.5)\n",
            "(10, 'gave', 'ece', 9187639288787, 8, 'f', 5.5)\n",
            "(11, 'messi', 'ece', 9187639288787, 8, 'f', 8.0)\n",
            "(12, 'benema', 'ece', 9187639288787, 8, 'f', 3.8)\n",
            "(13, 'salah', 'ece', 9187639288787, 8, 'f', 5.8)\n",
            "(14, 'mane', 'ece', 9187639288787, 8, 'f', 7.8)\n",
            "(15, 'james', 'ece', 9187639288787, 8, 'f', 6.8)\n",
            "(16, 'ardone', 'ece', 9187639288787, 8, 'f', 9.8)\n",
            "(17, 'richard', 'ece', 9187639288787, 8, 'f', 7.8)\n",
            "(18, 'henry', 'ece', 9187639288787, 8, 'f', 8.8)\n",
            "(19, 'royal', 'ece', 9187639288787, 8, 'f', 6.8)\n"
          ]
        }
      ]
    },
    {
      "cell_type": "markdown",
      "source": [
        "https://www.askpython.com/python/examples/insert-multiple-records-sqlite3"
      ],
      "metadata": {
        "id": "BGIUeDcER1qZ"
      }
    },
    {
      "cell_type": "code",
      "source": [
        "#using clauses\n",
        "x = c.execute(\"select name from student where cgpa >8.0;\")\n",
        "for i in x:\n",
        "  print(i)"
      ],
      "metadata": {
        "colab": {
          "base_uri": "https://localhost:8080/"
        },
        "id": "iIUBv8nWxWQC",
        "outputId": "3130befa-93eb-42b5-bd93-b1e4bb57b2bc"
      },
      "execution_count": null,
      "outputs": [
        {
          "output_type": "stream",
          "name": "stdout",
          "text": [
            "('david',)\n",
            "('vivin',)\n",
            "('viada',)\n",
            "('vibian',)\n",
            "('samosa',)\n",
            "('daniel',)\n",
            "('ardone',)\n",
            "('henry',)\n"
          ]
        }
      ]
    },
    {
      "cell_type": "code",
      "source": [
        "x = c.execute(\"select name from student where cgpa >=6.0 and cgpa <= 9.0\")\n",
        "for i in x:\n",
        "  print(i)"
      ],
      "metadata": {
        "colab": {
          "base_uri": "https://localhost:8080/"
        },
        "id": "KBVEFSwPx9rg",
        "outputId": "d3c78770-2c28-4a02-8e90-f75aaf4bcc8f"
      },
      "execution_count": null,
      "outputs": [
        {
          "output_type": "stream",
          "name": "stdout",
          "text": [
            "('samosa',)\n",
            "('goliath',)\n",
            "('daniel',)\n",
            "('samuel',)\n",
            "('peter',)\n",
            "('messi',)\n",
            "('mane',)\n",
            "('james',)\n",
            "('richard',)\n",
            "('henry',)\n",
            "('royal',)\n"
          ]
        }
      ]
    },
    {
      "cell_type": "code",
      "source": [
        "x = c.execute(\"select name from student where cgpa between 9.0 and 10.0\")\n",
        "for i in x:\n",
        "  print(i)"
      ],
      "metadata": {
        "colab": {
          "base_uri": "https://localhost:8080/"
        },
        "id": "4rpBaKYzypVx",
        "outputId": "5ef5736b-02e6-47dd-abd5-760015ae9ed7"
      },
      "execution_count": null,
      "outputs": [
        {
          "output_type": "stream",
          "name": "stdout",
          "text": [
            "('david',)\n",
            "('vivin',)\n",
            "('viada',)\n",
            "('vibian',)\n",
            "('ardone',)\n"
          ]
        }
      ]
    },
    {
      "cell_type": "code",
      "source": [
        "x = c.execute(\"select name from student where cgpa in (9.8,9.7,9.6)\")\n",
        "for i in x:\n",
        "  print(i)"
      ],
      "metadata": {
        "colab": {
          "base_uri": "https://localhost:8080/"
        },
        "id": "S7EZT4AkzMo_",
        "outputId": "2450453f-c9e5-453d-aeda-2be0ee045c3b"
      },
      "execution_count": null,
      "outputs": [
        {
          "output_type": "stream",
          "name": "stdout",
          "text": [
            "('david',)\n",
            "('vivin',)\n",
            "('viada',)\n",
            "('vibian',)\n",
            "('ardone',)\n"
          ]
        }
      ]
    },
    {
      "cell_type": "code",
      "source": [
        "x = c.execute(\"select name from student groupby cgpa\")\n",
        "for i in x:\n",
        "  print(i)"
      ],
      "metadata": {
        "colab": {
          "base_uri": "https://localhost:8080/",
          "height": 200
        },
        "id": "xA00c2xI0LoY",
        "outputId": "04c5151c-a5b9-4900-b3da-195e95be1c1e"
      },
      "execution_count": null,
      "outputs": [
        {
          "output_type": "error",
          "ename": "OperationalError",
          "evalue": "ignored",
          "traceback": [
            "\u001b[0;31m---------------------------------------------------------------------------\u001b[0m",
            "\u001b[0;31mOperationalError\u001b[0m                          Traceback (most recent call last)",
            "\u001b[0;32m<ipython-input-22-c675b001f577>\u001b[0m in \u001b[0;36m<module>\u001b[0;34m()\u001b[0m\n\u001b[0;32m----> 1\u001b[0;31m \u001b[0mx\u001b[0m \u001b[0;34m=\u001b[0m \u001b[0mc\u001b[0m\u001b[0;34m.\u001b[0m\u001b[0mexecute\u001b[0m\u001b[0;34m(\u001b[0m\u001b[0;34m\"select name from student groupby cgpa\"\u001b[0m\u001b[0;34m)\u001b[0m\u001b[0;34m\u001b[0m\u001b[0;34m\u001b[0m\u001b[0m\n\u001b[0m\u001b[1;32m      2\u001b[0m \u001b[0;32mfor\u001b[0m \u001b[0mi\u001b[0m \u001b[0;32min\u001b[0m \u001b[0mx\u001b[0m\u001b[0;34m:\u001b[0m\u001b[0;34m\u001b[0m\u001b[0;34m\u001b[0m\u001b[0m\n\u001b[1;32m      3\u001b[0m   \u001b[0mprint\u001b[0m\u001b[0;34m(\u001b[0m\u001b[0mi\u001b[0m\u001b[0;34m)\u001b[0m\u001b[0;34m\u001b[0m\u001b[0;34m\u001b[0m\u001b[0m\n",
            "\u001b[0;31mOperationalError\u001b[0m: near \"cgpa\": syntax error"
          ]
        }
      ]
    },
    {
      "cell_type": "code",
      "source": [
        "# working with foreign keys\n",
        "c.execute(\"\"\"\n",
        "create table hostel(\n",
        "  id integer ,\n",
        "  foreign key( id) references student(roll_no)\n",
        ");\"\"\")"
      ],
      "metadata": {
        "colab": {
          "base_uri": "https://localhost:8080/"
        },
        "id": "764iUTqbz5e1",
        "outputId": "5879fae7-ff6d-44e4-f016-28698fb4a48b"
      },
      "execution_count": null,
      "outputs": [
        {
          "output_type": "execute_result",
          "data": {
            "text/plain": [
              "<sqlite3.Cursor at 0x7f9985600810>"
            ]
          },
          "metadata": {},
          "execution_count": 29
        }
      ]
    },
    {
      "cell_type": "code",
      "source": [
        "c.commit()"
      ],
      "metadata": {
        "id": "kKNvsYYU3Q5C"
      },
      "execution_count": null,
      "outputs": []
    },
    {
      "cell_type": "code",
      "source": [
        "c.close()"
      ],
      "metadata": {
        "id": "zii3r5lD38he"
      },
      "execution_count": null,
      "outputs": []
    },
    {
      "cell_type": "code",
      "source": [
        ""
      ],
      "metadata": {
        "id": "UvOZp-EO39tf"
      },
      "execution_count": null,
      "outputs": []
    }
  ]
}